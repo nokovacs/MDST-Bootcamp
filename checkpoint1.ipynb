{
  "cells": [
    {
      "cell_type": "markdown",
      "metadata": {
        "id": "QHhgLNWCPFVC"
      },
      "source": [
        "# Checkpoint 1"
      ]
    },
    {
      "cell_type": "markdown",
      "metadata": {
        "id": "Y4C4pZ2SPFVE"
      },
      "source": [
        "Reminder: \n",
        "\n",
        "- You are being evaluated for compeletion and effort in this checkpoint. \n",
        "- Avoid manual labor / hard coding as much as possible, everything we've taught you so far are meant to simplify and automate your process."
      ]
    },
    {
      "cell_type": "markdown",
      "metadata": {
        "id": "t8t3VGVgPFVE"
      },
      "source": [
        "We will be working with the same `states_edu.csv` that you should already be familiar with from the tutorial.\n",
        "\n",
        "We investigated Grade 8 reading score in the tutorial. For this checkpoint, you are asked to investigate another test. Here's an overview:\n",
        "\n",
        "* Choose a specific response variable to focus on\n",
        ">Grade 4 Math, Grade 4 Reading, Grade 8 Math\n",
        "* Pick or create features to use\n",
        ">Will all the features be useful in predicting test score? Are some more important than others? Should you standardize, bin, or scale the data?\n",
        "* Explore the data as it relates to that test\n",
        ">Create at least 2 visualizations (graphs), each with a caption describing the graph and what it tells us about the data\n",
        "* Create training and testing data\n",
        ">Do you want to train on all the data? Only data from the last 10 years? Only Michigan data?\n",
        "* Train a ML model to predict outcome \n",
        ">Define what you want to predict, and pick a model in sklearn to use (see sklearn <a href=\"https://scikit-learn.org/stable/modules/linear_model.html\">regressors</a>.\n",
        "* Summarize your findings\n",
        ">Write a 1 paragraph summary of what you did and make a recommendation about if and how student performance can be predicted\n",
        "\n",
        "Include comments throughout your code! Every cleanup and preprocessing task should be documented.\n",
        "\n",
        "Of course, if you're finding this assignment interesting (and we really hope you do!), you are welcome to do more than the requirements! For example, you may want to see if expenditure affects 4th graders more than 8th graders. Maybe you want to look into the extended version of this dataset and see how factors like sex and race are involved. You can include all your work in this notebook when you turn it in -- just always make sure you explain what you did and interpret your results. Good luck!"
      ]
    },
    {
      "cell_type": "markdown",
      "metadata": {
        "id": "R7r1HupTPFVF"
      },
      "source": [
        "<h2> Data Cleanup </h2>\n",
        "\n",
        "Import `numpy`, `pandas`, and `matplotlib`.\n",
        "\n",
        "(Feel free to import other libraries!)"
      ]
    },
    {
      "cell_type": "code",
      "execution_count": 16,
      "metadata": {
        "id": "BQoOPVcHPFVF"
      },
      "outputs": [],
      "source": [
        "import pandas as pd\n",
        "import numpy as np\n",
        "import matplotlib.pyplot as plt\n",
        "\n",
        "# Suppress Pandas SettingWithCopyWarning\n",
        "pd.options.mode.chained_assignment = None"
      ]
    },
    {
      "cell_type": "markdown",
      "metadata": {
        "id": "zLLaFYekPFVG"
      },
      "source": [
        "Load in the \"states_edu.csv\" dataset and take a look at the head of the data"
      ]
    },
    {
      "cell_type": "code",
      "execution_count": 17,
      "metadata": {
        "colab": {
          "base_uri": "https://localhost:8080/"
        },
        "id": "JblACf29PFVG",
        "outputId": "d8f12296-aab3-49fc-d8dd-e56e1ec5c6c8"
      },
      "outputs": [
        {
          "output_type": "execute_result",
          "data": {
            "text/plain": [
              "<bound method NDFrame.head of              PRIMARY_KEY          STATE  YEAR  ENROLL  TOTAL_REVENUE  \\\n",
              "0           1992_ALABAMA        ALABAMA  1992     NaN      2678885.0   \n",
              "1            1992_ALASKA         ALASKA  1992     NaN      1049591.0   \n",
              "2           1992_ARIZONA        ARIZONA  1992     NaN      3258079.0   \n",
              "3          1992_ARKANSAS       ARKANSAS  1992     NaN      1711959.0   \n",
              "4        1992_CALIFORNIA     CALIFORNIA  1992     NaN     26260025.0   \n",
              "...                  ...            ...   ...     ...            ...   \n",
              "1710       2019_VIRGINIA       VIRGINIA  2019     NaN            NaN   \n",
              "1711     2019_WASHINGTON     WASHINGTON  2019     NaN            NaN   \n",
              "1712  2019_WEST_VIRGINIA  WEST_VIRGINIA  2019     NaN            NaN   \n",
              "1713      2019_WISCONSIN      WISCONSIN  2019     NaN            NaN   \n",
              "1714        2019_WYOMING        WYOMING  2019     NaN            NaN   \n",
              "\n",
              "      FEDERAL_REVENUE  STATE_REVENUE  LOCAL_REVENUE  TOTAL_EXPENDITURE  \\\n",
              "0            304177.0      1659028.0       715680.0          2653798.0   \n",
              "1            106780.0       720711.0       222100.0           972488.0   \n",
              "2            297888.0      1369815.0      1590376.0          3401580.0   \n",
              "3            178571.0       958785.0       574603.0          1743022.0   \n",
              "4           2072470.0     16546514.0      7641041.0         27138832.0   \n",
              "...               ...            ...            ...                ...   \n",
              "1710              NaN            NaN            NaN                NaN   \n",
              "1711              NaN            NaN            NaN                NaN   \n",
              "1712              NaN            NaN            NaN                NaN   \n",
              "1713              NaN            NaN            NaN                NaN   \n",
              "1714              NaN            NaN            NaN                NaN   \n",
              "\n",
              "      INSTRUCTION_EXPENDITURE  ...  GRADES_4_G  GRADES_8_G  GRADES_12_G  \\\n",
              "0                   1481703.0  ...     57948.0     58025.0      41167.0   \n",
              "1                    498362.0  ...      9748.0      8789.0       6714.0   \n",
              "2                   1435908.0  ...     55433.0     49081.0      37410.0   \n",
              "3                    964323.0  ...     34632.0     36011.0      27651.0   \n",
              "4                  14358922.0  ...    418418.0    363296.0     270675.0   \n",
              "...                       ...  ...         ...         ...          ...   \n",
              "1710                      NaN  ...         NaN         NaN          NaN   \n",
              "1711                      NaN  ...         NaN         NaN          NaN   \n",
              "1712                      NaN  ...         NaN         NaN          NaN   \n",
              "1713                      NaN  ...         NaN         NaN          NaN   \n",
              "1714                      NaN  ...         NaN         NaN          NaN   \n",
              "\n",
              "      GRADES_1_8_G  GRADES_9_12_G  GRADES_ALL_G  AVG_MATH_4_SCORE  \\\n",
              "0              NaN            NaN      731634.0             208.0   \n",
              "1              NaN            NaN      122487.0               NaN   \n",
              "2              NaN            NaN      673477.0             215.0   \n",
              "3              NaN            NaN      441490.0             210.0   \n",
              "4              NaN            NaN     5254844.0             208.0   \n",
              "...            ...            ...           ...               ...   \n",
              "1710           NaN            NaN           NaN             247.0   \n",
              "1711           NaN            NaN           NaN             240.0   \n",
              "1712           NaN            NaN           NaN             231.0   \n",
              "1713           NaN            NaN           NaN             242.0   \n",
              "1714           NaN            NaN           NaN             246.0   \n",
              "\n",
              "      AVG_MATH_8_SCORE  AVG_READING_4_SCORE  AVG_READING_8_SCORE  \n",
              "0                252.0                207.0                  NaN  \n",
              "1                  NaN                  NaN                  NaN  \n",
              "2                265.0                209.0                  NaN  \n",
              "3                256.0                211.0                  NaN  \n",
              "4                261.0                202.0                  NaN  \n",
              "...                ...                  ...                  ...  \n",
              "1710             287.0                224.0                262.0  \n",
              "1711             286.0                220.0                266.0  \n",
              "1712             272.0                213.0                256.0  \n",
              "1713             289.0                220.0                267.0  \n",
              "1714             286.0                227.0                265.0  \n",
              "\n",
              "[1715 rows x 25 columns]>"
            ]
          },
          "metadata": {},
          "execution_count": 17
        }
      ],
      "source": [
        "df = pd.read_csv('states_edu.csv')\n",
        "df.shape\n",
        "df.head"
      ]
    },
    {
      "cell_type": "markdown",
      "metadata": {
        "id": "tgtwmOtYPFVG"
      },
      "source": [
        "You should always familiarize yourself with what each column in the dataframe represents. Read about the states_edu dataset here: https://www.kaggle.com/noriuk/us-education-datasets-unification-project"
      ]
    },
    {
      "cell_type": "markdown",
      "metadata": {
        "id": "8J8H5HsBPFVG"
      },
      "source": [
        "Use this space to rename columns, deal with missing data, etc. _(optional)_"
      ]
    },
    {
      "cell_type": "code",
      "execution_count": 18,
      "metadata": {
        "colab": {
          "base_uri": "https://localhost:8080/",
          "height": 299
        },
        "id": "w_IeabSqPFVG",
        "outputId": "89a56627-7d10-4ce8-8897-0f92701cde69"
      },
      "outputs": [
        {
          "output_type": "execute_result",
          "data": {
            "text/plain": [
              "       PRIMARY_KEY       STATE  YEAR  ENROLL_ALL_EST  TOTAL_REVENUE  \\\n",
              "0     1992_ALABAMA     ALABAMA  1992             NaN      2678885.0   \n",
              "2     1992_ARIZONA     ARIZONA  1992             NaN      3258079.0   \n",
              "3    1992_ARKANSAS    ARKANSAS  1992             NaN      1711959.0   \n",
              "4  1992_CALIFORNIA  CALIFORNIA  1992             NaN     26260025.0   \n",
              "5    1992_COLORADO    COLORADO  1992             NaN      3185173.0   \n",
              "\n",
              "   FEDERAL_REVENUE  STATE_REVENUE  LOCAL_REVENUE  TOTAL_EXPENDITURE  \\\n",
              "0         304177.0      1659028.0       715680.0          2653798.0   \n",
              "2         297888.0      1369815.0      1590376.0          3401580.0   \n",
              "3         178571.0       958785.0       574603.0          1743022.0   \n",
              "4        2072470.0     16546514.0      7641041.0         27138832.0   \n",
              "5         163253.0      1307986.0      1713934.0          3264826.0   \n",
              "\n",
              "   INSTRUCTION_EXPENDITURE  ...  ENROLL_4  ENROLL_8  ENROLL_12  \\\n",
              "0                1481703.0  ...   57948.0   58025.0    41167.0   \n",
              "2                1435908.0  ...   55433.0   49081.0    37410.0   \n",
              "3                 964323.0  ...   34632.0   36011.0    27651.0   \n",
              "4               14358922.0  ...  418418.0  363296.0   270675.0   \n",
              "5                1642466.0  ...   50648.0   45025.0    34533.0   \n",
              "\n",
              "   ENROLL_PRIMARY  ENROLL_HS  ENROLL_ALL  AVG_MATH_4_SCORE  AVG_MATH_8_SCORE  \\\n",
              "0             NaN        NaN    731634.0             208.0             252.0   \n",
              "2             NaN        NaN    673477.0             215.0             265.0   \n",
              "3             NaN        NaN    441490.0             210.0             256.0   \n",
              "4             NaN        NaN   5254844.0             208.0             261.0   \n",
              "5             NaN        NaN    612635.0             221.0             272.0   \n",
              "\n",
              "   AVG_READING_4_SCORE  AVG_READING_8_SCORE  \n",
              "0                207.0                  NaN  \n",
              "2                209.0                  NaN  \n",
              "3                211.0                  NaN  \n",
              "4                202.0                  NaN  \n",
              "5                217.0                  NaN  \n",
              "\n",
              "[5 rows x 25 columns]"
            ],
            "text/html": [
              "\n",
              "  <div id=\"df-b8156c3b-42d7-463e-9ab3-833469067e75\">\n",
              "    <div class=\"colab-df-container\">\n",
              "      <div>\n",
              "<style scoped>\n",
              "    .dataframe tbody tr th:only-of-type {\n",
              "        vertical-align: middle;\n",
              "    }\n",
              "\n",
              "    .dataframe tbody tr th {\n",
              "        vertical-align: top;\n",
              "    }\n",
              "\n",
              "    .dataframe thead th {\n",
              "        text-align: right;\n",
              "    }\n",
              "</style>\n",
              "<table border=\"1\" class=\"dataframe\">\n",
              "  <thead>\n",
              "    <tr style=\"text-align: right;\">\n",
              "      <th></th>\n",
              "      <th>PRIMARY_KEY</th>\n",
              "      <th>STATE</th>\n",
              "      <th>YEAR</th>\n",
              "      <th>ENROLL_ALL_EST</th>\n",
              "      <th>TOTAL_REVENUE</th>\n",
              "      <th>FEDERAL_REVENUE</th>\n",
              "      <th>STATE_REVENUE</th>\n",
              "      <th>LOCAL_REVENUE</th>\n",
              "      <th>TOTAL_EXPENDITURE</th>\n",
              "      <th>INSTRUCTION_EXPENDITURE</th>\n",
              "      <th>...</th>\n",
              "      <th>ENROLL_4</th>\n",
              "      <th>ENROLL_8</th>\n",
              "      <th>ENROLL_12</th>\n",
              "      <th>ENROLL_PRIMARY</th>\n",
              "      <th>ENROLL_HS</th>\n",
              "      <th>ENROLL_ALL</th>\n",
              "      <th>AVG_MATH_4_SCORE</th>\n",
              "      <th>AVG_MATH_8_SCORE</th>\n",
              "      <th>AVG_READING_4_SCORE</th>\n",
              "      <th>AVG_READING_8_SCORE</th>\n",
              "    </tr>\n",
              "  </thead>\n",
              "  <tbody>\n",
              "    <tr>\n",
              "      <th>0</th>\n",
              "      <td>1992_ALABAMA</td>\n",
              "      <td>ALABAMA</td>\n",
              "      <td>1992</td>\n",
              "      <td>NaN</td>\n",
              "      <td>2678885.0</td>\n",
              "      <td>304177.0</td>\n",
              "      <td>1659028.0</td>\n",
              "      <td>715680.0</td>\n",
              "      <td>2653798.0</td>\n",
              "      <td>1481703.0</td>\n",
              "      <td>...</td>\n",
              "      <td>57948.0</td>\n",
              "      <td>58025.0</td>\n",
              "      <td>41167.0</td>\n",
              "      <td>NaN</td>\n",
              "      <td>NaN</td>\n",
              "      <td>731634.0</td>\n",
              "      <td>208.0</td>\n",
              "      <td>252.0</td>\n",
              "      <td>207.0</td>\n",
              "      <td>NaN</td>\n",
              "    </tr>\n",
              "    <tr>\n",
              "      <th>2</th>\n",
              "      <td>1992_ARIZONA</td>\n",
              "      <td>ARIZONA</td>\n",
              "      <td>1992</td>\n",
              "      <td>NaN</td>\n",
              "      <td>3258079.0</td>\n",
              "      <td>297888.0</td>\n",
              "      <td>1369815.0</td>\n",
              "      <td>1590376.0</td>\n",
              "      <td>3401580.0</td>\n",
              "      <td>1435908.0</td>\n",
              "      <td>...</td>\n",
              "      <td>55433.0</td>\n",
              "      <td>49081.0</td>\n",
              "      <td>37410.0</td>\n",
              "      <td>NaN</td>\n",
              "      <td>NaN</td>\n",
              "      <td>673477.0</td>\n",
              "      <td>215.0</td>\n",
              "      <td>265.0</td>\n",
              "      <td>209.0</td>\n",
              "      <td>NaN</td>\n",
              "    </tr>\n",
              "    <tr>\n",
              "      <th>3</th>\n",
              "      <td>1992_ARKANSAS</td>\n",
              "      <td>ARKANSAS</td>\n",
              "      <td>1992</td>\n",
              "      <td>NaN</td>\n",
              "      <td>1711959.0</td>\n",
              "      <td>178571.0</td>\n",
              "      <td>958785.0</td>\n",
              "      <td>574603.0</td>\n",
              "      <td>1743022.0</td>\n",
              "      <td>964323.0</td>\n",
              "      <td>...</td>\n",
              "      <td>34632.0</td>\n",
              "      <td>36011.0</td>\n",
              "      <td>27651.0</td>\n",
              "      <td>NaN</td>\n",
              "      <td>NaN</td>\n",
              "      <td>441490.0</td>\n",
              "      <td>210.0</td>\n",
              "      <td>256.0</td>\n",
              "      <td>211.0</td>\n",
              "      <td>NaN</td>\n",
              "    </tr>\n",
              "    <tr>\n",
              "      <th>4</th>\n",
              "      <td>1992_CALIFORNIA</td>\n",
              "      <td>CALIFORNIA</td>\n",
              "      <td>1992</td>\n",
              "      <td>NaN</td>\n",
              "      <td>26260025.0</td>\n",
              "      <td>2072470.0</td>\n",
              "      <td>16546514.0</td>\n",
              "      <td>7641041.0</td>\n",
              "      <td>27138832.0</td>\n",
              "      <td>14358922.0</td>\n",
              "      <td>...</td>\n",
              "      <td>418418.0</td>\n",
              "      <td>363296.0</td>\n",
              "      <td>270675.0</td>\n",
              "      <td>NaN</td>\n",
              "      <td>NaN</td>\n",
              "      <td>5254844.0</td>\n",
              "      <td>208.0</td>\n",
              "      <td>261.0</td>\n",
              "      <td>202.0</td>\n",
              "      <td>NaN</td>\n",
              "    </tr>\n",
              "    <tr>\n",
              "      <th>5</th>\n",
              "      <td>1992_COLORADO</td>\n",
              "      <td>COLORADO</td>\n",
              "      <td>1992</td>\n",
              "      <td>NaN</td>\n",
              "      <td>3185173.0</td>\n",
              "      <td>163253.0</td>\n",
              "      <td>1307986.0</td>\n",
              "      <td>1713934.0</td>\n",
              "      <td>3264826.0</td>\n",
              "      <td>1642466.0</td>\n",
              "      <td>...</td>\n",
              "      <td>50648.0</td>\n",
              "      <td>45025.0</td>\n",
              "      <td>34533.0</td>\n",
              "      <td>NaN</td>\n",
              "      <td>NaN</td>\n",
              "      <td>612635.0</td>\n",
              "      <td>221.0</td>\n",
              "      <td>272.0</td>\n",
              "      <td>217.0</td>\n",
              "      <td>NaN</td>\n",
              "    </tr>\n",
              "  </tbody>\n",
              "</table>\n",
              "<p>5 rows × 25 columns</p>\n",
              "</div>\n",
              "      <button class=\"colab-df-convert\" onclick=\"convertToInteractive('df-b8156c3b-42d7-463e-9ab3-833469067e75')\"\n",
              "              title=\"Convert this dataframe to an interactive table.\"\n",
              "              style=\"display:none;\">\n",
              "        \n",
              "  <svg xmlns=\"http://www.w3.org/2000/svg\" height=\"24px\"viewBox=\"0 0 24 24\"\n",
              "       width=\"24px\">\n",
              "    <path d=\"M0 0h24v24H0V0z\" fill=\"none\"/>\n",
              "    <path d=\"M18.56 5.44l.94 2.06.94-2.06 2.06-.94-2.06-.94-.94-2.06-.94 2.06-2.06.94zm-11 1L8.5 8.5l.94-2.06 2.06-.94-2.06-.94L8.5 2.5l-.94 2.06-2.06.94zm10 10l.94 2.06.94-2.06 2.06-.94-2.06-.94-.94-2.06-.94 2.06-2.06.94z\"/><path d=\"M17.41 7.96l-1.37-1.37c-.4-.4-.92-.59-1.43-.59-.52 0-1.04.2-1.43.59L10.3 9.45l-7.72 7.72c-.78.78-.78 2.05 0 2.83L4 21.41c.39.39.9.59 1.41.59.51 0 1.02-.2 1.41-.59l7.78-7.78 2.81-2.81c.8-.78.8-2.07 0-2.86zM5.41 20L4 18.59l7.72-7.72 1.47 1.35L5.41 20z\"/>\n",
              "  </svg>\n",
              "      </button>\n",
              "      \n",
              "  <style>\n",
              "    .colab-df-container {\n",
              "      display:flex;\n",
              "      flex-wrap:wrap;\n",
              "      gap: 12px;\n",
              "    }\n",
              "\n",
              "    .colab-df-convert {\n",
              "      background-color: #E8F0FE;\n",
              "      border: none;\n",
              "      border-radius: 50%;\n",
              "      cursor: pointer;\n",
              "      display: none;\n",
              "      fill: #1967D2;\n",
              "      height: 32px;\n",
              "      padding: 0 0 0 0;\n",
              "      width: 32px;\n",
              "    }\n",
              "\n",
              "    .colab-df-convert:hover {\n",
              "      background-color: #E2EBFA;\n",
              "      box-shadow: 0px 1px 2px rgba(60, 64, 67, 0.3), 0px 1px 3px 1px rgba(60, 64, 67, 0.15);\n",
              "      fill: #174EA6;\n",
              "    }\n",
              "\n",
              "    [theme=dark] .colab-df-convert {\n",
              "      background-color: #3B4455;\n",
              "      fill: #D2E3FC;\n",
              "    }\n",
              "\n",
              "    [theme=dark] .colab-df-convert:hover {\n",
              "      background-color: #434B5C;\n",
              "      box-shadow: 0px 1px 3px 1px rgba(0, 0, 0, 0.15);\n",
              "      filter: drop-shadow(0px 1px 2px rgba(0, 0, 0, 0.3));\n",
              "      fill: #FFFFFF;\n",
              "    }\n",
              "  </style>\n",
              "\n",
              "      <script>\n",
              "        const buttonEl =\n",
              "          document.querySelector('#df-b8156c3b-42d7-463e-9ab3-833469067e75 button.colab-df-convert');\n",
              "        buttonEl.style.display =\n",
              "          google.colab.kernel.accessAllowed ? 'block' : 'none';\n",
              "\n",
              "        async function convertToInteractive(key) {\n",
              "          const element = document.querySelector('#df-b8156c3b-42d7-463e-9ab3-833469067e75');\n",
              "          const dataTable =\n",
              "            await google.colab.kernel.invokeFunction('convertToInteractive',\n",
              "                                                     [key], {});\n",
              "          if (!dataTable) return;\n",
              "\n",
              "          const docLinkHtml = 'Like what you see? Visit the ' +\n",
              "            '<a target=\"_blank\" href=https://colab.research.google.com/notebooks/data_table.ipynb>data table notebook</a>'\n",
              "            + ' to learn more about interactive tables.';\n",
              "          element.innerHTML = '';\n",
              "          dataTable['output_type'] = 'display_data';\n",
              "          await google.colab.output.renderOutput(dataTable, element);\n",
              "          const docLink = document.createElement('div');\n",
              "          docLink.innerHTML = docLinkHtml;\n",
              "          element.appendChild(docLink);\n",
              "        }\n",
              "      </script>\n",
              "    </div>\n",
              "  </div>\n",
              "  "
            ]
          },
          "metadata": {},
          "execution_count": 18
        }
      ],
      "source": [
        "df.rename({\n",
        "    'GRADES_PK_G':'ENROLL_PREK',\n",
        "    'GRADES_KG_G':'ENROLL_KINDER',\n",
        "    'GRADES_4_G':'ENROLL_4',\n",
        "    'GRADES_8_G':'ENROLL_8',\n",
        "    'GRADES_12_G':'ENROLL_12',\n",
        "    'GRADES_1_8_G':'ENROLL_PRIMARY',\n",
        "    'GRADES_9_12_G':'ENROLL_HS',\n",
        "    'GRADES_ALL_G':'ENROLL_ALL',\n",
        "    'ENROLL':'ENROLL_ALL_EST'\n",
        "    },\n",
        "    axis=1,inplace=True)\n",
        "\n",
        "df.dropna(subset=['AVG_MATH_8_SCORE'], inplace=True)\n",
        "df.head()"
      ]
    },
    {
      "cell_type": "markdown",
      "metadata": {
        "id": "Edt1ros8PFVH"
      },
      "source": [
        "<h2>Exploratory Data Analysis (EDA) </h2>"
      ]
    },
    {
      "cell_type": "markdown",
      "metadata": {
        "id": "n6XhsqPzPFVH"
      },
      "source": [
        "Chosen Outcome Variable for Test: Grade 8 Math"
      ]
    },
    {
      "cell_type": "markdown",
      "metadata": {
        "id": "WFJ7XSGbPFVH"
      },
      "source": [
        "How many years of data are logged in our dataset? "
      ]
    },
    {
      "cell_type": "code",
      "execution_count": 14,
      "metadata": {
        "colab": {
          "base_uri": "https://localhost:8080/"
        },
        "id": "GNsvjfgjPFVH",
        "outputId": "c1b6934b-e8fc-4df8-97c9-79089d9a6433"
      },
      "outputs": [
        {
          "output_type": "stream",
          "name": "stdout",
          "text": [
            "33\n"
          ]
        }
      ],
      "source": [
        "print(df[\"YEAR\"].nunique())"
      ]
    },
    {
      "cell_type": "markdown",
      "metadata": {
        "id": "ZHqxkYTTPFVH"
      },
      "source": [
        "Let's compare Michigan to Ohio. Which state has the higher average outcome score across all years?"
      ]
    },
    {
      "cell_type": "code",
      "execution_count": 27,
      "metadata": {
        "colab": {
          "base_uri": "https://localhost:8080/"
        },
        "id": "iuM7NU9EPFVH",
        "outputId": "8ec307d8-be37-46ce-fefa-09f8515876d5"
      },
      "outputs": [
        {
          "output_type": "stream",
          "name": "stdout",
          "text": [
            "276.1666666666667\n",
            "282.25\n"
          ]
        }
      ],
      "source": [
        "st = df.groupby(\"STATE\")\n",
        "print(st[\"AVG_MATH_8_SCORE\"].mean()[\"MICHIGAN\"])\n",
        "print(st[\"AVG_MATH_8_SCORE\"].mean()[\"OHIO\"])"
      ]
    },
    {
      "cell_type": "markdown",
      "metadata": {
        "id": "-bzLadHdPFVH"
      },
      "source": [
        "Find the average for your outcome score across all states in 2019"
      ]
    },
    {
      "cell_type": "code",
      "execution_count": 25,
      "metadata": {
        "colab": {
          "base_uri": "https://localhost:8080/"
        },
        "id": "W6SAueCmPFVH",
        "outputId": "1fa6514d-ae1e-405f-f9fe-f842e3abd4d9"
      },
      "outputs": [
        {
          "output_type": "execute_result",
          "data": {
            "text/plain": [
              "281.2641509433962"
            ]
          },
          "metadata": {},
          "execution_count": 25
        }
      ],
      "source": [
        "st = df.groupby(\"YEAR\")\n",
        "st[\"AVG_MATH_8_SCORE\"].mean()[2019]"
      ]
    },
    {
      "cell_type": "markdown",
      "metadata": {
        "id": "_GYe0Qm6PFVI"
      },
      "source": [
        "Find the maximum outcome score for every state. \n",
        "\n",
        "Refer to the `Grouping and Aggregating` section in Tutorial 0 if you are stuck."
      ]
    },
    {
      "cell_type": "code",
      "execution_count": 29,
      "metadata": {
        "colab": {
          "base_uri": "https://localhost:8080/"
        },
        "id": "K3lyGspIPFVI",
        "outputId": "289f19ea-dc14-4275-cfd0-f1e6b6523405"
      },
      "outputs": [
        {
          "output_type": "execute_result",
          "data": {
            "text/plain": [
              "STATE\n",
              "ALABAMA                 269.0\n",
              "ALASKA                  283.0\n",
              "ARIZONA                 283.0\n",
              "ARKANSAS                279.0\n",
              "CALIFORNIA              277.0\n",
              "COLORADO                292.0\n",
              "CONNECTICUT             289.0\n",
              "DELAWARE                284.0\n",
              "DISTRICT_OF_COLUMBIA    269.0\n",
              "DODEA                   293.0\n",
              "FLORIDA                 281.0\n",
              "GEORGIA                 281.0\n",
              "HAWAII                  281.0\n",
              "IDAHO                   287.0\n",
              "ILLINOIS                285.0\n",
              "INDIANA                 288.0\n",
              "IOWA                    286.0\n",
              "KANSAS                  290.0\n",
              "KENTUCKY                282.0\n",
              "LOUISIANA               273.0\n",
              "MAINE                   289.0\n",
              "MARYLAND                288.0\n",
              "MASSACHUSETTS           301.0\n",
              "MICHIGAN                280.0\n",
              "MINNESOTA               295.0\n",
              "MISSISSIPPI             274.0\n",
              "MISSOURI                286.0\n",
              "MONTANA                 293.0\n",
              "NATIONAL                285.0\n",
              "NEBRASKA                288.0\n",
              "NEVADA                  278.0\n",
              "NEW_HAMPSHIRE           296.0\n",
              "NEW_JERSEY              296.0\n",
              "NEW_MEXICO              274.0\n",
              "NEW_YORK                283.0\n",
              "NORTH_CAROLINA          286.0\n",
              "NORTH_DAKOTA            293.0\n",
              "OHIO                    290.0\n",
              "OKLAHOMA                279.0\n",
              "OREGON                  285.0\n",
              "PENNSYLVANIA            290.0\n",
              "RHODE_ISLAND            284.0\n",
              "SOUTH_CAROLINA          282.0\n",
              "SOUTH_DAKOTA            291.0\n",
              "TENNESSEE               280.0\n",
              "TEXAS                   290.0\n",
              "UTAH                    287.0\n",
              "VERMONT                 295.0\n",
              "VIRGINIA                290.0\n",
              "WASHINGTON              290.0\n",
              "WEST_VIRGINIA           274.0\n",
              "WISCONSIN               289.0\n",
              "WYOMING                 289.0\n",
              "Name: AVG_MATH_8_SCORE, dtype: float64"
            ]
          },
          "metadata": {},
          "execution_count": 29
        }
      ],
      "source": [
        "st[\"AVG_MATH_8_SCORE\"].max()"
      ]
    },
    {
      "cell_type": "markdown",
      "metadata": {
        "id": "pwh3EMzyPFVI"
      },
      "source": [
        "<h2> Feature Engineering </h2>\n",
        "\n",
        "After exploring the data, you can choose to modify features that you would use to predict the performance of the students on your chosen response variable. \n",
        "\n",
        "You can also create your own features. For example, perhaps you figured that maybe a state's expenditure per student may affect their overall academic performance so you create a expenditure_per_student feature.\n",
        "\n",
        "Use this space to modify or create features."
      ]
    },
    {
      "cell_type": "code",
      "execution_count": 30,
      "metadata": {
        "id": "tA1TyHRrPFVI"
      },
      "outputs": [],
      "source": [
        "df['GRADE8MATHEXP'] = df['AVG_MATH_8_SCORE'] / df['TOTAL_EXPENDITURE']"
      ]
    },
    {
      "cell_type": "markdown",
      "metadata": {
        "id": "mQrVUSxdPFVI"
      },
      "source": [
        "Feature engineering justification: **I wanted to observe the relationship between score and expenditures**"
      ]
    },
    {
      "cell_type": "markdown",
      "metadata": {
        "id": "L2pqmZ7xPFVI"
      },
      "source": [
        "<h2>Visualization</h2>\n",
        "\n",
        "Investigate the relationship between your chosen response variable and at least two predictors using visualizations. Write down your observations.\n",
        "\n",
        "**Visualization 1**"
      ]
    },
    {
      "cell_type": "code",
      "execution_count": 31,
      "metadata": {
        "colab": {
          "base_uri": "https://localhost:8080/",
          "height": 296
        },
        "id": "FLqMQhJ1PFVJ",
        "outputId": "5a567082-e2d3-4bd4-f698-13abfc0cf588"
      },
      "outputs": [
        {
          "output_type": "execute_result",
          "data": {
            "text/plain": [
              "Text(0, 0.5, '8th Grade Math Score')"
            ]
          },
          "metadata": {},
          "execution_count": 31
        },
        {
          "output_type": "display_data",
          "data": {
            "text/plain": [
              "<Figure size 432x288 with 1 Axes>"
            ],
            "image/png": "[encoded data removed]"
          },
          "metadata": {
            "needs_background": "light"
          }
        }
      ],
      "source": [
        "df.plot.scatter(x='ENROLL_8', y='AVG_MATH_8_SCORE', alpha=0.6)\n",
        "plt.xlabel('8th Grade Enrollment')\n",
        "plt.ylabel('8th Grade Math Score')"
      ]
    },
    {
      "cell_type": "markdown",
      "metadata": {
        "id": "KhIJN8JVPFVJ"
      },
      "source": [
        "\n",
        "\n",
        "```\n",
        "`# This is formatted as code`\n",
        "```\n",
        "\n",
        "**8th Grade Math Scores by Number Enrolled**"
      ]
    },
    {
      "cell_type": "markdown",
      "metadata": {
        "id": "Ll7ymelcPFVJ"
      },
      "source": [
        "**Visualization 2**"
      ]
    },
    {
      "cell_type": "code",
      "execution_count": 33,
      "metadata": {
        "colab": {
          "base_uri": "https://localhost:8080/",
          "height": 297
        },
        "id": "plXQ1lNIPFVJ",
        "outputId": "2885a5c1-5be2-432e-8dd7-bc28dc36006a"
      },
      "outputs": [
        {
          "output_type": "execute_result",
          "data": {
            "text/plain": [
              "<matplotlib.axes._subplots.AxesSubplot at 0x7f02bfb89520>"
            ]
          },
          "metadata": {},
          "execution_count": 33
        },
        {
          "output_type": "display_data",
          "data": {
            "text/plain": [
              "<Figure size 432x288 with 1 Axes>"
            ],
            "image/png": "[encoded data removed]"
          },
          "metadata": {
            "needs_background": "light"
          }
        }
      ],
      "source": [
        "df.plot.scatter(x='AVG_READING_8_SCORE', y='AVG_MATH_8_SCORE', alpha=0.8)"
      ]
    },
    {
      "cell_type": "markdown",
      "metadata": {
        "id": "yOu4zVi6PFVJ"
      },
      "source": [
        "**Average 8th Grade Match Score by Average 8th Grade Reading Score**"
      ]
    },
    {
      "cell_type": "markdown",
      "metadata": {
        "id": "tDoRlVHBPFVJ"
      },
      "source": [
        "<h2> Data Creation </h2>\n",
        "\n",
        "_Use this space to create train/test data_"
      ]
    },
    {
      "cell_type": "code",
      "execution_count": 34,
      "metadata": {
        "id": "XrANh3cBPFVJ"
      },
      "outputs": [],
      "source": [
        "from sklearn.model_selection import train_test_split"
      ]
    },
    {
      "cell_type": "code",
      "execution_count": 46,
      "metadata": {
        "id": "PNFhck85PFVK"
      },
      "outputs": [],
      "source": [
        "X = df[['ENROLL_8','AVG_READING_8_SCORE','AVG_MATH_4_SCORE']].dropna()\n",
        "y = df.loc[X.index]['AVG_MATH_8_SCORE']\n",
        "y.fillna(y.median(), inplace=True)"
      ]
    },
    {
      "cell_type": "code",
      "execution_count": 47,
      "metadata": {
        "id": "v2GyizuoPFVK"
      },
      "outputs": [],
      "source": [
        "X_train, X_test, y_train, y_test = train_test_split(X, y, test_size=.3, random_state=0)"
      ]
    },
    {
      "cell_type": "markdown",
      "metadata": {
        "id": "pacpzldPPFVK"
      },
      "source": [
        "<h2> Prediction </h2>"
      ]
    },
    {
      "cell_type": "markdown",
      "metadata": {
        "id": "et6xxi1VPFVK"
      },
      "source": [
        "ML Models [Resource](https://medium.com/@vijaya.beeravalli/comparison-of-machine-learning-classification-models-for-credit-card-default-data-c3cf805c9a5a)"
      ]
    },
    {
      "cell_type": "code",
      "execution_count": 48,
      "metadata": {
        "id": "2Fc9c0CuPFVK"
      },
      "outputs": [],
      "source": [
        "# import your sklearn class here\n",
        "from sklearn.linear_model import LinearRegression"
      ]
    },
    {
      "cell_type": "code",
      "execution_count": 49,
      "metadata": {
        "id": "lYN4yn1vPFVK"
      },
      "outputs": [],
      "source": [
        "# create your model here\n",
        "model = LinearRegression()"
      ]
    },
    {
      "cell_type": "code",
      "execution_count": 50,
      "metadata": {
        "colab": {
          "base_uri": "https://localhost:8080/"
        },
        "id": "t8SBHT4wPFVL",
        "outputId": "953646b1-7f12-42b1-f9f1-b0db69a6059c"
      },
      "outputs": [
        {
          "output_type": "execute_result",
          "data": {
            "text/plain": [
              "LinearRegression()"
            ]
          },
          "metadata": {},
          "execution_count": 50
        }
      ],
      "source": [
        "model.fit(X_train, y_train)"
      ]
    },
    {
      "cell_type": "code",
      "execution_count": 51,
      "metadata": {
        "id": "9aiC3FjcPFVL"
      },
      "outputs": [],
      "source": [
        "y_pred = model.predict(X_test)"
      ]
    },
    {
      "cell_type": "markdown",
      "metadata": {
        "id": "jZ2pbxT_PFVL"
      },
      "source": [
        "## Evaluation"
      ]
    },
    {
      "cell_type": "markdown",
      "metadata": {
        "id": "c1gxwgsFPFVL"
      },
      "source": [
        "Choose some metrics to evaluate the performance of your model, some of them are mentioned in the tutorial."
      ]
    },
    {
      "cell_type": "code",
      "source": [
        "print(model.intercept_)\n",
        "print(model.coef_)"
      ],
      "metadata": {
        "colab": {
          "base_uri": "https://localhost:8080/"
        },
        "id": "cQWK6ITd3yXD",
        "outputId": "2edefa66-ddf7-49c0-ab05-e68f5a6d2cbe"
      },
      "execution_count": 52,
      "outputs": [
        {
          "output_type": "stream",
          "name": "stdout",
          "text": [
            "-35.958024144067394\n",
            "[7.34029020e-07 5.42404916e-01 7.27763070e-01]\n"
          ]
        }
      ]
    },
    {
      "cell_type": "code",
      "execution_count": 53,
      "metadata": {
        "colab": {
          "base_uri": "https://localhost:8080/"
        },
        "id": "N4hZXq5RPFVL",
        "outputId": "3a2b0525-d55b-4312-c1f0-2255044b13e4"
      },
      "outputs": [
        {
          "output_type": "execute_result",
          "data": {
            "text/plain": [
              "0.9003996940070169"
            ]
          },
          "metadata": {},
          "execution_count": 53
        }
      ],
      "source": [
        "model.score(X_test, y_test)"
      ]
    },
    {
      "cell_type": "markdown",
      "metadata": {
        "id": "s3V-o_h5PFVL"
      },
      "source": [
        "We have copied over the graphs that visualize the model's performance on the training and testing set. \n",
        "\n",
        "Change `col_name` and modify the call to `plt.ylabel()` to isolate how a single predictor affects the model."
      ]
    },
    {
      "cell_type": "code",
      "execution_count": 56,
      "metadata": {
        "colab": {
          "base_uri": "https://localhost:8080/",
          "height": 422
        },
        "id": "i8wsBjRaPFVL",
        "outputId": "2dfae178-eba8-4c73-8b36-ef06960cf056"
      },
      "outputs": [
        {
          "output_type": "execute_result",
          "data": {
            "text/plain": [
              "Text(0.5, 1.0, 'Model Behavior On Training Set')"
            ]
          },
          "metadata": {},
          "execution_count": 56
        },
        {
          "output_type": "display_data",
          "data": {
            "text/plain": [
              "<Figure size 864x432 with 1 Axes>"
            ],
            "image/png": "[encoded data removed]"
          },
          "metadata": {
            "needs_background": "light"
          }
        }
      ],
      "source": [
        "col_name = 'AVG_MATH_4_SCORE'\n",
        "\n",
        "f = plt.figure(figsize=(12,6))\n",
        "plt.scatter(X_train[col_name], y_train, color = \"red\")\n",
        "plt.scatter(X_train[col_name], model.predict(X_train), color = \"green\")\n",
        "\n",
        "plt.legend(['True Training','Predicted Training'])\n",
        "plt.xlabel(col_name)\n",
        "plt.ylabel('NAME OF THE PREDICTOR')\n",
        "plt.title(\"Model Behavior On Training Set\")"
      ]
    },
    {
      "cell_type": "code",
      "execution_count": 55,
      "metadata": {
        "colab": {
          "base_uri": "https://localhost:8080/",
          "height": 422
        },
        "id": "7l97-SxxPFVL",
        "outputId": "006e3eb3-7877-402d-c458-017dd6815c44"
      },
      "outputs": [
        {
          "output_type": "execute_result",
          "data": {
            "text/plain": [
              "Text(0.5, 1.0, 'Model Behavior on Testing Set')"
            ]
          },
          "metadata": {},
          "execution_count": 55
        },
        {
          "output_type": "display_data",
          "data": {
            "text/plain": [
              "<Figure size 864x432 with 1 Axes>"
            ],
            "image/png": "[encoded data removed]"
          },
          "metadata": {
            "needs_background": "light"
          }
        }
      ],
      "source": [
        "col_name = 'AVG_READING_8_SCORE'\n",
        "\n",
        "f = plt.figure(figsize=(12,6))\n",
        "plt.scatter(X_test[col_name], y_test, color = \"blue\")\n",
        "plt.scatter(X_test[col_name], model.predict(X_test), color = \"black\")\n",
        "\n",
        "plt.legend(['True testing','Predicted testing'])\n",
        "plt.xlabel(col_name)\n",
        "plt.ylabel('NAME OF THE PREDICTOR')\n",
        "plt.title(\"Model Behavior on Testing Set\")"
      ]
    },
    {
      "cell_type": "markdown",
      "metadata": {
        "id": "HscfEYgJPFVL"
      },
      "source": [
        "<h2> Summary </h2>"
      ]
    },
    {
      "cell_type": "markdown",
      "metadata": {
        "id": "X3A8uf5OPFVM"
      },
      "source": [
        "**i wanted to look more at 8th Grade Math Scores. Through looking closer at the data I realized that 33 years was documented. I also analyzed the average scores over all the years between Ohio and Michigan, with the former beating the latter. From there, I created a model that prediced the 8th Grade Math Score through a variety of factors. These factors were enrollment, the average 8th grade reading score, and the average 4th grade math score. This model resulted with an r sqaured value of 0.9, showing a strong correlation between the variables. I then created two graphs to visualize the testing, which clearly has high accuracy. It appears that primarily through younger testing data and current testing data, it is likely that you are able to predict how the student tests elsewhere.**"
      ]
    },
    {
      "cell_type": "code",
      "source": [],
      "metadata": {
        "id": "uFdVZFC_5j8p"
      },
      "execution_count": null,
      "outputs": []
    }
  ],
  "metadata": {
    "kernelspec": {
      "display_name": "Python 3.9.0 64-bit",
      "language": "python",
      "name": "python3"
    },
    "language_info": {
      "codemirror_mode": {
        "name": "ipython",
        "version": 3
      },
      "file_extension": ".py",
      "mimetype": "text/x-python",
      "name": "python",
      "nbconvert_exporter": "python",
      "pygments_lexer": "ipython3",
      "version": "3.9.0"
    },
    "vscode": {
      "interpreter": {
        "hash": "6cf8df3ff69f85f626faf55c10df6fe2cb9d1236b4dc73844ee4dc01369c2c99"
      }
    },
    "colab": {
      "provenance": []
    }
  },
  "nbformat": 4,
  "nbformat_minor": 0
}